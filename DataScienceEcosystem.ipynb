{
 "cells": [
  {
   "cell_type": "markdown",
   "id": "f2b42e35-7789-49f1-8450-762c80d6610a",
   "metadata": {},
   "source": [
    "<h1>Data Science Tools and Ecosystem</h1>"
   ]
  },
  {
   "cell_type": "markdown",
   "id": "785a9a80-fcff-4835-8b31-a8ef994a3a89",
   "metadata": {},
   "source": [
    "In this notebook, Data Science Tools and Ecosystem are summarized.\n"
   ]
  },
  {
   "cell_type": "markdown",
   "id": "7f655697-8471-48c2-9c9f-2f1374e25986",
   "metadata": {},
   "source": [
    "<b>Objectives: </b>\n",
    "<ul>\n",
    "    <li>use of mark down cells</li>\n",
    "     <li>list of popular languages use by data scientists</li>\n",
    "     <li>list of commonly used libraries by data scientists</li>\n",
    "     <li>list of open source data science tools</li>\n",
    "</ul>"
   ]
  },
  {
   "cell_type": "markdown",
   "id": "87a9d08a-90f0-41a3-b2b4-1a51a7721cb8",
   "metadata": {},
   "source": [
    "Some of the popular languages that Data Scientists use are:\n",
    "<ol type=\"number\">\n",
    "<li>R</li>\n",
    "<li>Python</li>\n",
    "<li>Scala</li>\n",
    "    \n",
    "</ol>"
   ]
  },
  {
   "cell_type": "markdown",
   "id": "69a74312-fb28-4b4b-b134-d283c51fc174",
   "metadata": {},
   "source": [
    "Some of the commonly used libraries used by Data Scientists include:\n",
    "<ol>\n",
    "<li>Numpy</li>\n",
    "<li>Pandas</li>\n",
    "<li>Scikit-learn</li>\n",
    "</ol>"
   ]
  },
  {
   "cell_type": "markdown",
   "id": "879e5e03-304e-4f9f-b050-d2cfb07ace44",
   "metadata": {},
   "source": [
    "<table align=\"left\">\n",
    "    <tr>\n",
    "        <th>\n",
    "            Data Science Tools\n",
    "        </th>\n",
    "    </tr>\n",
    "    <tr>\n",
    "        <td>\n",
    "            jupyter notebooks\n",
    "        </td>\n",
    "    </tr>\n",
    "    <tr>\n",
    "         <td>\n",
    "             jupyter labs\n",
    "        </td>\n",
    "    </tr>\n",
    "    <tr>\n",
    "         <td>\n",
    "             apache zeppelin\n",
    "        </td>\n",
    "    </tr>\n",
    "    <tr>\n",
    "         <td>\n",
    "        </td>\n",
    "    </tr>\n",
    "</table>"
   ]
  },
  {
   "cell_type": "markdown",
   "id": "09cc0d6a-059f-4eeb-9cd3-5f48deba9327",
   "metadata": {},
   "source": [
    "<h3>Below are a few examples of evaluating arithmetic expressions in Python</h3>"
   ]
  },
  {
   "cell_type": "code",
   "execution_count": 2,
   "id": "fa41a145-c46f-4333-a301-ee7208d3bd03",
   "metadata": {},
   "outputs": [
    {
     "data": {
      "text/plain": [
       "17"
      ]
     },
     "execution_count": 2,
     "metadata": {},
     "output_type": "execute_result"
    }
   ],
   "source": [
    "#This a simple arithmetic expression to mutiply then add integers\n",
    "(3*4)+5"
   ]
  },
  {
   "cell_type": "code",
   "execution_count": 10,
   "id": "f5a2cc35-cfec-4ad7-84b2-81089592bc31",
   "metadata": {},
   "outputs": [
    {
     "name": "stdout",
     "output_type": "stream",
     "text": [
      "200 minutes is equal to hours 3.3333333333333335\n"
     ]
    }
   ],
   "source": [
    "#This will convert 200 minutes to hours by diving by 60\n",
    "print(\"200 minutes is equal to hours\",200/60)"
   ]
  },
  {
   "cell_type": "markdown",
   "id": "610a597e-07cb-4f70-bcef-e2ed37c2ce10",
   "metadata": {},
   "source": [
    "<h2>Author</h2>\n",
    "Devyani"
   ]
  },
  {
   "cell_type": "code",
   "execution_count": null,
   "id": "6e0037ba-507e-458a-b91e-bff164821506",
   "metadata": {},
   "outputs": [],
   "source": []
  }
 ],
 "metadata": {
  "kernelspec": {
   "display_name": "Python 3 (ipykernel)",
   "language": "python",
   "name": "python3"
  },
  "language_info": {
   "codemirror_mode": {
    "name": "ipython",
    "version": 3
   },
   "file_extension": ".py",
   "mimetype": "text/x-python",
   "name": "python",
   "nbconvert_exporter": "python",
   "pygments_lexer": "ipython3",
   "version": "3.12.2"
  }
 },
 "nbformat": 4,
 "nbformat_minor": 5
}
